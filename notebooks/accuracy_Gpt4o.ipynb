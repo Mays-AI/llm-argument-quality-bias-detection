{
 "cells": [
  {
   "cell_type": "markdown",
   "id": "aea36d5f",
   "metadata": {},
   "source": [
    "# Accuracy: \n",
    "\n",
    "\n",
    "\n"
   ]
  },
  {
   "cell_type": "code",
   "execution_count": null,
   "id": "1ff3f546",
   "metadata": {},
   "outputs": [],
   "source": [
    "# Import necessary libraries\n",
    "\n",
    "import sys\n",
    "import requests\n",
    "import numpy as np\n",
    "import pandas as pd\n",
    "import matplotlib.pyplot as plt\n",
    "import seaborn as sns\n",
    "import ast  \n",
    "from scipy.stats import pearsonr\n",
    "from sklearn.metrics import cohen_kappa_score\n",
    "from statsmodels.stats import inter_rater\n",
    "from statsmodels.stats.inter_rater import fleiss_kappa\n",
    "from data_cleaning import clean_and_validate_data\n",
    "from accuracy import compute_accuracy, save_accuracy_results_to_csv"
   ]
  },
  {
   "cell_type": "markdown",
   "id": "a0397a2b",
   "metadata": {},
   "source": [
    "Data Preprocessing: "
   ]
  },
  {
   "cell_type": "code",
   "execution_count": null,
   "id": "756c6f33",
   "metadata": {},
   "outputs": [],
   "source": [
    "\n",
    "file_paths = [\n",
    "    {\n",
    "        \"input\": \"/data/Gpt4o_Annotations.csv\",\n",
    "        \"output\": \"/results/Gpt4o_Annotations.csv\"\n",
    "    },\n",
    "    {\n",
    "        \"input\": \"/data/Gpt4o_Annotations_Temp03.csv\",\n",
    "        \"output\": \"/results/Gpt4o_Annotations_Temp03.csv\"\n",
    "    },\n",
    "    {\n",
    "        \"input\": \"/data/Gpt4o_Annotations_Temp07.csv\",\n",
    "        \"output\": \"/results/Gpt4o_Annotations_Temp07.csv\"\n",
    "    }\n",
    "]\n",
    "\n",
    "# Loop through each file and process\n",
    "for file in file_paths:\n",
    "    clean_and_validate_data(file[\"input\"], file[\"output\"])\n"
   ]
  },
  {
   "cell_type": "markdown",
   "id": "5b81c818",
   "metadata": {},
   "source": [
    "Accuracy: "
   ]
  },
  {
   "cell_type": "code",
   "execution_count": null,
   "id": "c29caf3d",
   "metadata": {},
   "outputs": [],
   "source": [
    "\n",
    "ground_truth_path = '/data/dataset.csv'\n",
    "\n",
    "\n",
    "dimensions = ['STRONG', 'SPECIFIC', 'PERSUASIVE', 'OBJECTIVE']\n",
    "\n",
    "\n",
    "model_configs = [\n",
    "    {\n",
    "        \"model_name\": \"gpt-4o\",\n",
    "        \"setting\": \"\",\n",
    "        \"data_path\": \"/data/Gpt4o_Annotations.csv\",\n",
    "        \"output_csv\": \"results/accuracy_Gpt4o_default.csv\"\n",
    "    },\n",
    "    {\n",
    "        \"model_name\": \"gpt-4o\",\n",
    "        \"setting\": \"Temperature=0.3\",\n",
    "        \"data_path\": \"/data/Gpt4o_Annotations_Temp03.csv\",\n",
    "        \"output_csv\": \"results/accuracy_Gpt4o_temp3.csv\"\n",
    "    },\n",
    "    {\n",
    "        \"model_name\": \"gpt-4o\",\n",
    "        \"setting\": \"Temperature=0.7\",\n",
    "        \"data_path\": \"/data/Gpt4o_Annotations_Temp07.csv\",\n",
    "        \"output_csv\": \"results/accuracy_Gpt4o_temp7.csv\"\n",
    "    }\n",
    "]\n",
    "\n",
    "\n",
    "ground_truth_df = pd.read_csv(ground_truth_path)\n",
    "\n",
    "# Iterate through model configurations\n",
    "for cfg in model_configs:\n",
    "    print(f\"\\n===== Processing Model: {cfg['model_name']} | Setting: {cfg['setting']} =====\")\n",
    "    \n",
    " \n",
    "    llm_results_df = pd.read_csv(cfg[\"data_path\"])\n",
    " \n",
    "    accuracy_results = compute_accuracy(ground_truth_df, llm_results_df, dimensions)\n",
    "    \n",
    "\n",
    "    print(\"Accuracy Results:\")\n",
    "    for dim, acc in accuracy_results.items():\n",
    "        print(f\"{dim}: {acc:.2f}\")\n",
    "    \n",
    "\n",
    "    save_accuracy_results_to_csv(\n",
    "        accuracy_results,\n",
    "        filepath=cfg[\"output_csv\"],\n",
    "        model_name=cfg[\"model_name\"],\n",
    "        setting=cfg[\"setting\"],\n",
    "        decimal_places=2\n",
    "    )\n",
    "    \n",
    "    print(f\"Saved results to {cfg['output_csv']} for {cfg['model_name']} (Setting: {cfg['setting']})\")\n"
   ]
  },
  {
   "cell_type": "code",
   "execution_count": null,
   "id": "0f0ff9a4",
   "metadata": {},
   "outputs": [],
   "source": []
  }
 ],
 "metadata": {
  "kernelspec": {
   "display_name": "Python 3 (ipykernel)",
   "language": "python",
   "name": "python3"
  },
  "language_info": {
   "codemirror_mode": {
    "name": "ipython",
    "version": 3
   },
   "file_extension": ".py",
   "mimetype": "text/x-python",
   "name": "python",
   "nbconvert_exporter": "python",
   "pygments_lexer": "ipython3",
   "version": "3.8.11"
  }
 },
 "nbformat": 4,
 "nbformat_minor": 5
}
