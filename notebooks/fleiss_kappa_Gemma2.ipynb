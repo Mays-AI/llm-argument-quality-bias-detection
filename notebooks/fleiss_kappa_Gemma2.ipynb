{
 "cells": [
  {
   "cell_type": "markdown",
   "id": "fd72eeb5",
   "metadata": {},
   "source": [
    "Fleiss kappa:"
   ]
  },
  {
   "cell_type": "code",
   "execution_count": null,
   "id": "7aca743f",
   "metadata": {},
   "outputs": [],
   "source": [
    "import sys\n",
    "import pandas as pd\n",
    "from statsmodels.stats.inter_rater import fleiss_kappa\n",
    "from fleiss_kappa import compute_fleiss_kappa, save_fleiss_kappa_results_to_csv"
   ]
  },
  {
   "cell_type": "markdown",
   "id": "73157c9f",
   "metadata": {},
   "source": [
    "If the sum is not equal to 3, it means we need to clean the data before computing Fleiss' Kappa:"
   ]
  },
  {
   "cell_type": "code",
   "execution_count": null,
   "id": "e60dc9a3",
   "metadata": {},
   "outputs": [],
   "source": [
    "\n",
    "\n",
    "# Define dimensions for Fleiss' Kappa computation\n",
    "dimensions = ['Strength_runs', 'Specificity_runs', 'Persuasiveness_runs', 'Objectivity_runs']\n",
    "\n",
    "# Define model configurations dynamically\n",
    "model_configs = [\n",
    "    {\n",
    "        \"model_name\": \"Gemma2\",\n",
    "        \"setting\": \"\",\n",
    "        \"data_path\": \"/data/GemmaAnn.csv\",\n",
    "        \"output_csv\": \"results/fleiss_kappa_Gemma2_default.csv\"\n",
    "    },\n",
    "    {\n",
    "        \"model_name\": \"Gemma2\",\n",
    "        \"setting\": \"Temperature=0.3\",\n",
    "        \"data_path\": \"/data/GemmaAnn_Temperature_03.csv\",\n",
    "        \"output_csv\": \"results/fleiss_kappa_Gemma2_temp3.csv\"\n",
    "    },\n",
    "    {\n",
    "        \"model_name\": \"Gemma2\",\n",
    "        \"setting\": \"Temperature=0.7\",\n",
    "        \"data_path\": \"/data/GemmaAnn_cleaned_Temperature_07.csv\",\n",
    "        \"output_csv\": \"results/fleiss_kappa_Gemma2_temp7.csv\"\n",
    "    }\n",
    "]\n",
    "\n",
    "# Iterate through model configurations\n",
    "for cfg in model_configs:\n",
    "    print(f\"\\n===== Processing Model: {cfg['model_name']} | Setting: {cfg['setting']} =====\")\n",
    "\n",
    "    # Load LLM results\n",
    "    df = pd.read_csv(cfg[\"data_path\"])\n",
    "\n",
    "    # Compute Fleiss' Kappa\n",
    "    kappa_results = compute_fleiss_kappa(df, dimensions)\n",
    "\n",
    "    # Print results\n",
    "    print(\"Fleiss' Kappa Results:\")\n",
    "    for dim, kappa in kappa_results.items():\n",
    "        print(f\"{dim}: {kappa:.3f}\")\n",
    "\n",
    "    # Save results to CSV\n",
    "    save_fleiss_kappa_results_to_csv(\n",
    "        kappa_results,\n",
    "        filepath=cfg[\"output_csv\"],\n",
    "        model_name=cfg[\"model_name\"],\n",
    "        setting=cfg[\"setting\"],\n",
    "        decimal_places=2\n",
    "    )\n",
    "\n",
    "    print(f\"Saved results to {cfg['output_csv']} for {cfg['model_name']} (Setting: {cfg['setting']})\")\n"
   ]
  },
  {
   "cell_type": "code",
   "execution_count": null,
   "id": "767861b6",
   "metadata": {},
   "outputs": [],
   "source": []
  }
 ],
 "metadata": {
  "kernelspec": {
   "display_name": "Python 3 (ipykernel)",
   "language": "python",
   "name": "python3"
  },
  "language_info": {
   "codemirror_mode": {
    "name": "ipython",
    "version": 3
   },
   "file_extension": ".py",
   "mimetype": "text/x-python",
   "name": "python",
   "nbconvert_exporter": "python",
   "pygments_lexer": "ipython3",
   "version": "3.8.11"
  }
 },
 "nbformat": 4,
 "nbformat_minor": 5
}
